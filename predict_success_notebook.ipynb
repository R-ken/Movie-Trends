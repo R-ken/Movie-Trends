{
 "cells": [
  {
   "cell_type": "code",
   "execution_count": 1,
   "metadata": {},
   "outputs": [],
   "source": [
    "import numpy as np\n",
    "import pandas as pd\n",
    "from sklearn import preprocessing\n",
    "\n",
    "wikidata = pd.read_json('wikidata-movies.json.gz', orient='record', lines=True, encoding=\"utf8\")\n",
    "rotten_tomato = pd.read_json('rotten-tomatoes.json.gz', orient='record', lines=True)\n"
   ]
  },
  {
   "cell_type": "code",
   "execution_count": 2,
   "metadata": {},
   "outputs": [],
   "source": [
    "# Here we will consider a movie good if it has a critic rating > 80% on rotten tomatoes.\n",
    "# Drop all records with sub 30% critic score\n",
    "rotten_tomato = rotten_tomato[rotten_tomato['critic_percent'] >= 30]\n",
    "\n",
    "\n",
    "rotten_tomato = rotten_tomato[['rotten_tomatoes_id', 'critic_percent']]\n",
    "rotten_tomato['good'] = (rotten_tomato['critic_percent'] >= 80)\n",
    "rotten_tomato = rotten_tomato.drop(columns=['critic_percent'])\n",
    "rotten_tomato = rotten_tomato.set_index('rotten_tomatoes_id')\n"
   ]
  },
  {
   "cell_type": "code",
   "execution_count": 4,
   "metadata": {},
   "outputs": [],
   "source": [
    "wikidata_with_cast = wikidata[wikidata.cast_member.notna()]\n",
    "wikidata_with_cast = wikidata_with_cast[wikidata_with_cast.cast_member.map(len)>3]"
   ]
  },
  {
   "cell_type": "code",
   "execution_count": 5,
   "metadata": {},
   "outputs": [],
   "source": [
    "cast_members_by_movie = wikidata_with_cast[['cast_member', 'rotten_tomatoes_id']]"
   ]
  },
  {
   "cell_type": "code",
   "execution_count": 7,
   "metadata": {},
   "outputs": [],
   "source": [
    "# https://www.mikulskibartosz.name/how-to-split-a-list-inside-a-dataframe-cell-into-rows-in-pandas/\n",
    "cast_members_by_movie = cast_members_by_movie.cast_member.apply(pd.Series) \\\n",
    "    .merge(cast_members_by_movie, left_index = True, right_index = True) \\\n",
    "    .drop([\"cast_member\"], axis = 1) \\\n",
    "    .melt(id_vars = ['rotten_tomatoes_id'], value_name = \"cast_member\") \\\n",
    "    .drop('variable', axis = 1) \\\n",
    "    .dropna()"
   ]
  },
  {
   "cell_type": "code",
   "execution_count": 9,
   "metadata": {},
   "outputs": [],
   "source": [
    "cast_members_by_movie = cast_members_by_movie.sort_values(['rotten_tomatoes_id'], ascending=True).set_index('rotten_tomatoes_id')"
   ]
  },
  {
   "cell_type": "code",
   "execution_count": 10,
   "metadata": {},
   "outputs": [],
   "source": [
    "cast_members_by_movie_with_rating = rotten_tomato.join(cast_members_by_movie)"
   ]
  },
  {
   "cell_type": "code",
   "execution_count": 11,
   "metadata": {},
   "outputs": [],
   "source": [
    "cast_members_by_movie_with_rating = cast_members_by_movie_with_rating.dropna()"
   ]
  },
  {
   "cell_type": "code",
   "execution_count": 13,
   "metadata": {},
   "outputs": [],
   "source": [
    "categorical_rep_of_cast_in_movies = pd.get_dummies(cast_members_by_movie_with_rating['cast_member'])\n",
    "categorical_rep_of_cast_in_movies = categorical_rep_of_cast_in_movies.drop([col for col, val in categorical_rep_of_cast_in_movies.sum().iteritems() if val < 10], axis=1)"
   ]
  },
  {
   "cell_type": "code",
   "execution_count": 15,
   "metadata": {},
   "outputs": [],
   "source": [
    "categorical_rep_of_cast_in_movies = categorical_rep_of_cast_in_movies.groupby('rotten_tomatoes_id').any().astype(int)"
   ]
  },
  {
   "cell_type": "code",
   "execution_count": 16,
   "metadata": {},
   "outputs": [],
   "source": [
    "categorical_rep_of_cast_in_movies_with_rating = categorical_rep_of_cast_in_movies.join(rotten_tomato)"
   ]
  },
  {
   "cell_type": "code",
   "execution_count": 17,
   "metadata": {},
   "outputs": [],
   "source": [
    "from sklearn.neural_network import MLPClassifier\n",
    "from sklearn.model_selection import train_test_split\n",
    "from sklearn.metrics import classification_report\n"
   ]
  },
  {
   "cell_type": "code",
   "execution_count": 18,
   "metadata": {},
   "outputs": [],
   "source": [
    "X_train, X_valid, y_train, y_valid = train_test_split(categorical_rep_of_cast_in_movies_with_rating.loc[:, categorical_rep_of_cast_in_movies_with_rating.columns != 'good'], categorical_rep_of_cast_in_movies_with_rating['good'])"
   ]
  },
  {
   "cell_type": "code",
   "execution_count": 20,
   "metadata": {},
   "outputs": [
    {
     "name": "stdout",
     "output_type": "stream",
     "text": [
      "0.5878757004584819\n",
      "              precision    recall  f1-score   support\n",
      "\n",
      "       False       0.59      1.00      0.74      1154\n",
      "        True       0.00      0.00      0.00       809\n",
      "\n",
      "   micro avg       0.59      0.59      0.59      1963\n",
      "   macro avg       0.29      0.50      0.37      1963\n",
      "weighted avg       0.35      0.59      0.44      1963\n",
      "\n"
     ]
    },
    {
     "name": "stderr",
     "output_type": "stream",
     "text": [
      "/home/eric/anaconda3/lib/python3.7/site-packages/sklearn/metrics/classification.py:1143: UndefinedMetricWarning: Precision and F-score are ill-defined and being set to 0.0 in labels with no predicted samples.\n",
      "  'precision', 'predicted', average, warn_for)\n"
     ]
    }
   ],
   "source": [
    "model = MLPClassifier(hidden_layer_sizes=(100,50,30,20,10),\n",
    "                     activation='logistic', solver='lbfgs')\n",
    "model.fit(X_train, y_train)\n",
    "print(model.score(X_valid, y_valid))\n",
    "\n",
    "y_predicted = model.predict(X_valid)\n",
    "print(classification_report(y_valid, y_predicted))"
   ]
  },
  {
   "cell_type": "code",
   "execution_count": 21,
   "metadata": {},
   "outputs": [
    {
     "name": "stdout",
     "output_type": "stream",
     "text": [
      "0.5766944114149821\n",
      "0.5878757004584819\n",
      "              precision    recall  f1-score   support\n",
      "\n",
      "       False       0.59      1.00      0.74      1154\n",
      "        True       0.00      0.00      0.00       809\n",
      "\n",
      "   micro avg       0.59      0.59      0.59      1963\n",
      "   macro avg       0.29      0.50      0.37      1963\n",
      "weighted avg       0.35      0.59      0.44      1963\n",
      "\n"
     ]
    },
    {
     "name": "stderr",
     "output_type": "stream",
     "text": [
      "/home/eric/anaconda3/lib/python3.7/site-packages/sklearn/metrics/classification.py:1143: UndefinedMetricWarning: Precision and F-score are ill-defined and being set to 0.0 in labels with no predicted samples.\n",
      "  'precision', 'predicted', average, warn_for)\n"
     ]
    }
   ],
   "source": [
    "from sklearn.ensemble import GradientBoostingClassifier\n",
    "model = GradientBoostingClassifier(n_estimators=50, min_samples_leaf=0.1)\n",
    "model.fit(X_train, y_train)\n",
    "print(model.score(X_train, y_train))\n",
    "print(model.score(X_valid, y_valid))\n",
    "\n",
    "y_predicted = model.predict(X_valid)\n",
    "print(classification_report(y_valid, y_predicted))"
   ]
  },
  {
   "cell_type": "code",
   "execution_count": 22,
   "metadata": {},
   "outputs": [
    {
     "name": "stderr",
     "output_type": "stream",
     "text": [
      "/home/eric/anaconda3/lib/python3.7/site-packages/sklearn/svm/base.py:196: FutureWarning: The default value of gamma will change from 'auto' to 'scale' in version 0.22 to account better for unscaled features. Set gamma explicitly to 'auto' or 'scale' to avoid this warning.\n",
      "  \"avoid this warning.\", FutureWarning)\n"
     ]
    },
    {
     "name": "stdout",
     "output_type": "stream",
     "text": [
      "0.5766944114149821\n",
      "0.5878757004584819\n",
      "              precision    recall  f1-score   support\n",
      "\n",
      "       False       0.59      1.00      0.74      1154\n",
      "        True       0.00      0.00      0.00       809\n",
      "\n",
      "   micro avg       0.59      0.59      0.59      1963\n",
      "   macro avg       0.29      0.50      0.37      1963\n",
      "weighted avg       0.35      0.59      0.44      1963\n",
      "\n"
     ]
    },
    {
     "name": "stderr",
     "output_type": "stream",
     "text": [
      "/home/eric/anaconda3/lib/python3.7/site-packages/sklearn/metrics/classification.py:1143: UndefinedMetricWarning: Precision and F-score are ill-defined and being set to 0.0 in labels with no predicted samples.\n",
      "  'precision', 'predicted', average, warn_for)\n"
     ]
    }
   ],
   "source": [
    "from sklearn import svm\n",
    "svm_model = svm.SVC(C=0.0000006)\n",
    "svm_model.fit(X_train, y_train)\n",
    "print(svm_model.score(X_train, y_train))\n",
    "print(svm_model.score(X_valid, y_valid))\n",
    "\n",
    "y_predicted = svm_model.predict(X_valid)\n",
    "print(classification_report(y_valid, y_predicted))"
   ]
  },
  {
   "cell_type": "code",
   "execution_count": 23,
   "metadata": {},
   "outputs": [
    {
     "name": "stdout",
     "output_type": "stream",
     "text": [
      "0.6252760319347715\n",
      "0.6031584309730005\n",
      "              precision    recall  f1-score   support\n",
      "\n",
      "       False       0.60      0.96      0.74      1154\n",
      "        True       0.62      0.10      0.17       809\n",
      "\n",
      "   micro avg       0.60      0.60      0.60      1963\n",
      "   macro avg       0.61      0.53      0.45      1963\n",
      "weighted avg       0.61      0.60      0.50      1963\n",
      "\n"
     ]
    }
   ],
   "source": [
    "from sklearn.ensemble import RandomForestClassifier\n",
    "rf_model = RandomForestClassifier(n_estimators=100,\n",
    "        max_depth=300, min_samples_leaf=10)\n",
    "rf_model.fit(X_train, y_train)\n",
    "\n",
    "print(rf_model.score(X_train, y_train))\n",
    "print(rf_model.score(X_valid, y_valid))\n",
    "\n",
    "y_predicted = rf_model.predict(X_valid)\n",
    "print(classification_report(y_valid, y_predicted))"
   ]
  },
  {
   "cell_type": "code",
   "execution_count": null,
   "metadata": {},
   "outputs": [],
   "source": []
  }
 ],
 "metadata": {
  "kernelspec": {
   "display_name": "Python 3",
   "language": "python",
   "name": "python3"
  },
  "language_info": {
   "codemirror_mode": {
    "name": "ipython",
    "version": 3
   },
   "file_extension": ".py",
   "mimetype": "text/x-python",
   "name": "python",
   "nbconvert_exporter": "python",
   "pygments_lexer": "ipython3",
   "version": "3.7.3"
  }
 },
 "nbformat": 4,
 "nbformat_minor": 2
}
